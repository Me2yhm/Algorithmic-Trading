{
 "cells": [
  {
   "cell_type": "code",
   "execution_count": 2,
   "metadata": {
    "collapsed": true,
    "ExecuteTime": {
     "end_time": "2023-08-03T01:23:58.427036800Z",
     "start_time": "2023-08-03T01:23:58.409037100Z"
    }
   },
   "outputs": [
    {
     "data": {
      "text/plain": "10000000"
     },
     "execution_count": 2,
     "metadata": {},
     "output_type": "execute_result"
    }
   ],
   "source": [
    "1_00_00_000"
   ]
  },
  {
   "cell_type": "code",
   "execution_count": 5,
   "outputs": [],
   "source": [
    "from typing import cast\n",
    "a = 10\n",
    "b = cast(str, a)\n",
    "result:int = cast(int, None)"
   ],
   "metadata": {
    "collapsed": false,
    "ExecuteTime": {
     "end_time": "2023-08-03T01:30:24.736463300Z",
     "start_time": "2023-08-03T01:30:24.732463300Z"
    }
   }
  },
  {
   "cell_type": "code",
   "execution_count": 1,
   "outputs": [],
   "source": [
    "import pandas as pd\n",
    "import numpy as np"
   ],
   "metadata": {
    "collapsed": false,
    "ExecuteTime": {
     "end_time": "2023-08-21T03:07:40.487529700Z",
     "start_time": "2023-08-21T03:07:39.957218700Z"
    }
   }
  },
  {
   "cell_type": "code",
   "execution_count": 5,
   "outputs": [
    {
     "data": {
      "text/plain": "    0   1   2   3   4   5\n0   0   1   2   3   4   5\n1   6   7   8   9  10  11\n2  12  13  14  15  16  17\n3  18  19  20  21  22  23\n4  24  25  26  27  28  29\n5  30  31  32  33  34  35",
      "text/html": "<div>\n<style scoped>\n    .dataframe tbody tr th:only-of-type {\n        vertical-align: middle;\n    }\n\n    .dataframe tbody tr th {\n        vertical-align: top;\n    }\n\n    .dataframe thead th {\n        text-align: right;\n    }\n</style>\n<table border=\"1\" class=\"dataframe\">\n  <thead>\n    <tr style=\"text-align: right;\">\n      <th></th>\n      <th>0</th>\n      <th>1</th>\n      <th>2</th>\n      <th>3</th>\n      <th>4</th>\n      <th>5</th>\n    </tr>\n  </thead>\n  <tbody>\n    <tr>\n      <th>0</th>\n      <td>0</td>\n      <td>1</td>\n      <td>2</td>\n      <td>3</td>\n      <td>4</td>\n      <td>5</td>\n    </tr>\n    <tr>\n      <th>1</th>\n      <td>6</td>\n      <td>7</td>\n      <td>8</td>\n      <td>9</td>\n      <td>10</td>\n      <td>11</td>\n    </tr>\n    <tr>\n      <th>2</th>\n      <td>12</td>\n      <td>13</td>\n      <td>14</td>\n      <td>15</td>\n      <td>16</td>\n      <td>17</td>\n    </tr>\n    <tr>\n      <th>3</th>\n      <td>18</td>\n      <td>19</td>\n      <td>20</td>\n      <td>21</td>\n      <td>22</td>\n      <td>23</td>\n    </tr>\n    <tr>\n      <th>4</th>\n      <td>24</td>\n      <td>25</td>\n      <td>26</td>\n      <td>27</td>\n      <td>28</td>\n      <td>29</td>\n    </tr>\n    <tr>\n      <th>5</th>\n      <td>30</td>\n      <td>31</td>\n      <td>32</td>\n      <td>33</td>\n      <td>34</td>\n      <td>35</td>\n    </tr>\n  </tbody>\n</table>\n</div>"
     },
     "execution_count": 5,
     "metadata": {},
     "output_type": "execute_result"
    }
   ],
   "source": [
    "arr = np.arange(36).reshape((6,-1))\n",
    "df = pd.DataFrame(arr)\n",
    "df"
   ],
   "metadata": {
    "collapsed": false,
    "ExecuteTime": {
     "end_time": "2023-08-21T03:08:54.231095700Z",
     "start_time": "2023-08-21T03:08:54.209050900Z"
    }
   }
  },
  {
   "cell_type": "code",
   "execution_count": 7,
   "outputs": [
    {
     "data": {
      "text/plain": "0    22.5\n1    23.5\n2    24.5\n3    25.5\n4    26.5\n5    27.5\nName: 0.75, dtype: float64"
     },
     "execution_count": 7,
     "metadata": {},
     "output_type": "execute_result"
    }
   ],
   "source": [
    "df.quantile(0.75)"
   ],
   "metadata": {
    "collapsed": false,
    "ExecuteTime": {
     "end_time": "2023-08-21T03:09:39.647262600Z",
     "start_time": "2023-08-21T03:09:39.631221600Z"
    }
   }
  },
  {
   "cell_type": "code",
   "execution_count": 9,
   "outputs": [
    {
     "data": {
      "text/plain": "22.5"
     },
     "execution_count": 9,
     "metadata": {},
     "output_type": "execute_result"
    }
   ],
   "source": [
    "df[0].quantile(0.75)"
   ],
   "metadata": {
    "collapsed": false,
    "ExecuteTime": {
     "end_time": "2023-08-21T03:10:17.865674900Z",
     "start_time": "2023-08-21T03:10:17.832603800Z"
    }
   }
  },
  {
   "cell_type": "code",
   "execution_count": 15,
   "outputs": [
    {
     "data": {
      "text/plain": "25.0"
     },
     "execution_count": 15,
     "metadata": {},
     "output_type": "execute_result"
    }
   ],
   "source": [
    "np.quantile(df, 0.75, axis=0).mean()"
   ],
   "metadata": {
    "collapsed": false,
    "ExecuteTime": {
     "end_time": "2023-08-21T03:15:34.371206500Z",
     "start_time": "2023-08-21T03:15:34.361698700Z"
    }
   }
  },
  {
   "cell_type": "code",
   "execution_count": 6,
   "outputs": [],
   "source": [
    "begin_time = str(20230703093003000)\n",
    "end_time = str(20230703145700000)\n",
    "simulator = SignalDeliverySimulator(\n",
    "    start_timestamp=begin_time, end_timestamp=end_time\n",
    ")\n",
    "simulated_data = simulator.simulate_signal_delivery()\n",
    "time_dict = {}\n",
    "for entry in simulated_data:\n",
    "    timestamp = int(TimestampConverter.to_timestamp(entry[1]))\n",
    "    if (20230703113000000) <= timestamp <= (20230703130000000):\n",
    "        continue\n",
    "    if timestamp in time_dict:\n",
    "        time_dict[timestamp][\"trade\"] = time_dict[timestamp][\"trade\"] or (\n",
    "            entry[0] == \"trade\"\n",
    "        )\n",
    "        time_dict[timestamp][\"update\"] = time_dict[timestamp][\"update\"] or (\n",
    "            entry[0] == \"update\"\n",
    "        )\n",
    "    else:\n",
    "        time_dict[timestamp] = {\n",
    "            \"trade\": (entry[0] == \"trade\"),\n",
    "            \"update\": (entry[0] == \"update\"),\n",
    "        }"
   ],
   "metadata": {
    "collapsed": false,
    "ExecuteTime": {
     "end_time": "2023-08-23T05:52:27.710876200Z",
     "start_time": "2023-08-23T05:52:27.614047500Z"
    }
   }
  },
  {
   "cell_type": "code",
   "execution_count": 7,
   "outputs": [
    {
     "data": {
      "text/plain": "6220"
     },
     "execution_count": 7,
     "metadata": {},
     "output_type": "execute_result"
    }
   ],
   "source": [
    "len(time_dict)"
   ],
   "metadata": {
    "collapsed": false,
    "ExecuteTime": {
     "end_time": "2023-08-23T05:52:29.924066Z",
     "start_time": "2023-08-23T05:52:29.915063700Z"
    }
   }
  },
  {
   "cell_type": "code",
   "execution_count": 22,
   "outputs": [],
   "source": [],
   "metadata": {
    "collapsed": false,
    "ExecuteTime": {
     "end_time": "2023-08-21T05:31:37.821310300Z",
     "start_time": "2023-08-21T05:31:37.815802700Z"
    }
   }
  },
  {
   "cell_type": "code",
   "execution_count": 23,
   "outputs": [],
   "source": [],
   "metadata": {
    "collapsed": false,
    "ExecuteTime": {
     "end_time": "2023-08-21T05:31:39.326966800Z",
     "start_time": "2023-08-21T05:31:39.313937Z"
    }
   }
  },
  {
   "cell_type": "code",
   "execution_count": 32,
   "outputs": [
    {
     "data": {
      "text/plain": "20230703000000000"
     },
     "execution_count": 32,
     "metadata": {},
     "output_type": "execute_result"
    }
   ],
   "source": [
    "tick.file_date_num"
   ],
   "metadata": {
    "collapsed": false,
    "ExecuteTime": {
     "end_time": "2023-08-21T06:07:50.673407200Z",
     "start_time": "2023-08-21T06:07:50.639703400Z"
    }
   }
  },
  {
   "cell_type": "code",
   "execution_count": 24,
   "outputs": [],
   "source": [
    "ob = OrderBook(data_api=tick, decay_rate=5)"
   ],
   "metadata": {
    "collapsed": false,
    "ExecuteTime": {
     "end_time": "2023-08-21T05:31:51.502236700Z",
     "start_time": "2023-08-21T05:31:51.499237600Z"
    }
   }
  },
  {
   "cell_type": "code",
   "execution_count": 25,
   "outputs": [],
   "source": [
    "ob.update(until=None)"
   ],
   "metadata": {
    "collapsed": false,
    "ExecuteTime": {
     "end_time": "2023-08-21T05:32:53.802981900Z",
     "start_time": "2023-08-21T05:32:02.891391700Z"
    }
   }
  },
  {
   "cell_type": "code",
   "execution_count": 26,
   "outputs": [],
   "source": [
    "w = Writer(filename='example.csv')"
   ],
   "metadata": {
    "collapsed": false,
    "ExecuteTime": {
     "end_time": "2023-08-21T05:33:26.018716800Z",
     "start_time": "2023-08-21T05:33:25.999606700Z"
    }
   }
  },
  {
   "cell_type": "code",
   "execution_count": 29,
   "outputs": [],
   "source": [
    "timestamp = 2023_07_03_09_31_00_000\n",
    "df = w.collect_data_by_timestamp(ob, timestamp=2023_07_03_09_31_00_000, timestamp_prev=2023_07_03_09_30_00_000)"
   ],
   "metadata": {
    "collapsed": false,
    "ExecuteTime": {
     "end_time": "2023-08-21T05:39:01.423160100Z",
     "start_time": "2023-08-21T05:39:01.383577300Z"
    }
   }
  },
  {
   "cell_type": "code",
   "execution_count": 28,
   "outputs": [
    {
     "data": {
      "text/plain": "['preclose',\n 'open',\n 'high',\n 'low',\n 'close',\n 'preclose_range',\n 'open_range',\n 'high_range',\n 'low_range',\n 'close_range',\n 'ask_price_0',\n 'ask_price_1',\n 'ask_price_2',\n 'ask_price_3',\n 'ask_price_4',\n 'ask_price_5',\n 'ask_price_6',\n 'ask_price_7',\n 'ask_price_8',\n 'ask_price_9',\n 'ask_volume_0',\n 'ask_volume_1',\n 'ask_volume_2',\n 'ask_volume_3',\n 'ask_volume_4',\n 'ask_volume_5',\n 'ask_volume_6',\n 'ask_volume_7',\n 'ask_volume_8',\n 'ask_volume_9',\n 'bid_price_0',\n 'bid_price_1',\n 'bid_price_2',\n 'bid_price_3',\n 'bid_price_4',\n 'bid_price_5',\n 'bid_price_6',\n 'bid_price_7',\n 'bid_price_8',\n 'bid_price_9',\n 'bid_volume_0',\n 'bid_volume_1',\n 'bid_volume_2',\n 'bid_volume_3',\n 'bid_volume_4',\n 'bid_volume_5',\n 'bid_volume_6',\n 'bid_volume_7',\n 'bid_volume_8',\n 'bid_volume_9',\n 'ask_order_num_0',\n 'ask_order_num_1',\n 'ask_order_num_2',\n 'ask_order_num_3',\n 'ask_order_num_4',\n 'ask_order_num_5',\n 'ask_order_num_6',\n 'ask_order_num_7',\n 'ask_order_num_8',\n 'ask_order_num_9',\n 'bid_order_num_0',\n 'bid_order_num_1',\n 'bid_order_num_2',\n 'bid_order_num_3',\n 'bid_order_num_4',\n 'bid_order_num_5',\n 'bid_order_num_6',\n 'bid_order_num_7',\n 'bid_order_num_8',\n 'bid_order_num_9',\n 'ask_order_stale_0',\n 'ask_order_stale_1',\n 'ask_order_stale_2',\n 'ask_order_stale_3',\n 'ask_order_stale_4',\n 'ask_order_stale_5',\n 'ask_order_stale_6',\n 'ask_order_stale_7',\n 'ask_order_stale_8',\n 'ask_order_stale_9',\n 'bid_order_stale_0',\n 'bid_order_stale_1',\n 'bid_order_stale_2',\n 'bid_order_stale_3',\n 'bid_order_stale_4',\n 'bid_order_stale_5',\n 'bid_order_stale_6',\n 'bid_order_stale_7',\n 'bid_order_stale_8',\n 'bid_order_stale_9',\n 'order_num',\n 'volume',\n 'VWAP',\n 'amount',\n 'passive_num',\n 'passive_stale_total',\n 'order_num_range',\n 'volume_range',\n 'VWAP_range',\n 'amount_range',\n 'passive_num_range',\n 'passive_stale_total_range',\n 'passive_stale_avg_range',\n 'depth']"
     },
     "execution_count": 28,
     "metadata": {},
     "output_type": "execute_result"
    }
   ],
   "source": [
    "w.columns"
   ],
   "metadata": {
    "collapsed": false,
    "ExecuteTime": {
     "end_time": "2023-08-21T05:34:52.588272700Z",
     "start_time": "2023-08-21T05:34:52.575250500Z"
    }
   }
  },
  {
   "cell_type": "code",
   "execution_count": 31,
   "outputs": [
    {
     "data": {
      "text/plain": "   preclose   open   high    low  close  preclose_range  open_range  \\\n0     10.75  10.75  10.75  10.75  10.75           10.97       10.95   \n\n   high_range  low_range  close_range  ...  passive_num  passive_stale_total  \\\n0        11.2      10.73        10.75  ...         1606            185216450   \n\n   order_num_range  volume_range  VWAP_range  amount_range  passive_num_range  \\\n0             3273       6033296   10.980444   66248266.63               1391   \n\n   passive_stale_total_range  passive_stale_avg_range         depth  \n0                   50246020             36122.228613  14069.457902  \n\n[1 rows x 104 columns]",
      "text/html": "<div>\n<style scoped>\n    .dataframe tbody tr th:only-of-type {\n        vertical-align: middle;\n    }\n\n    .dataframe tbody tr th {\n        vertical-align: top;\n    }\n\n    .dataframe thead th {\n        text-align: right;\n    }\n</style>\n<table border=\"1\" class=\"dataframe\">\n  <thead>\n    <tr style=\"text-align: right;\">\n      <th></th>\n      <th>preclose</th>\n      <th>open</th>\n      <th>high</th>\n      <th>low</th>\n      <th>close</th>\n      <th>preclose_range</th>\n      <th>open_range</th>\n      <th>high_range</th>\n      <th>low_range</th>\n      <th>close_range</th>\n      <th>...</th>\n      <th>passive_num</th>\n      <th>passive_stale_total</th>\n      <th>order_num_range</th>\n      <th>volume_range</th>\n      <th>VWAP_range</th>\n      <th>amount_range</th>\n      <th>passive_num_range</th>\n      <th>passive_stale_total_range</th>\n      <th>passive_stale_avg_range</th>\n      <th>depth</th>\n    </tr>\n  </thead>\n  <tbody>\n    <tr>\n      <th>0</th>\n      <td>10.75</td>\n      <td>10.75</td>\n      <td>10.75</td>\n      <td>10.75</td>\n      <td>10.75</td>\n      <td>10.97</td>\n      <td>10.95</td>\n      <td>11.2</td>\n      <td>10.73</td>\n      <td>10.75</td>\n      <td>...</td>\n      <td>1606</td>\n      <td>185216450</td>\n      <td>3273</td>\n      <td>6033296</td>\n      <td>10.980444</td>\n      <td>66248266.63</td>\n      <td>1391</td>\n      <td>50246020</td>\n      <td>36122.228613</td>\n      <td>14069.457902</td>\n    </tr>\n  </tbody>\n</table>\n<p>1 rows × 104 columns</p>\n</div>"
     },
     "execution_count": 31,
     "metadata": {},
     "output_type": "execute_result"
    }
   ],
   "source": [
    "df = pd.DataFrame(data=[df], columns=w.columns)"
   ],
   "metadata": {
    "collapsed": false,
    "ExecuteTime": {
     "end_time": "2023-08-21T05:39:55.544509Z",
     "start_time": "2023-08-21T05:39:55.530493600Z"
    }
   }
  }
 ],
 "metadata": {
  "kernelspec": {
   "display_name": "Python 3",
   "language": "python",
   "name": "python3"
  },
  "language_info": {
   "codemirror_mode": {
    "name": "ipython",
    "version": 2
   },
   "file_extension": ".py",
   "mimetype": "text/x-python",
   "name": "python",
   "nbconvert_exporter": "python",
   "pygments_lexer": "ipython2",
   "version": "2.7.6"
  }
 },
 "nbformat": 4,
 "nbformat_minor": 0
}
