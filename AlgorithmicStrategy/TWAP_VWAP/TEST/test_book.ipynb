{
 "cells": [
  {
   "cell_type": "code",
   "execution_count": 1,
   "outputs": [],
   "source": [
    "import pandas as pd\n",
    "import numpy as np\n",
    "import polars as pl\n"
   ],
   "metadata": {
    "collapsed": false,
    "ExecuteTime": {
     "end_time": "2023-09-04T03:04:41.899591600Z",
     "start_time": "2023-09-04T03:04:41.292910900Z"
    }
   }
  },
  {
   "cell_type": "code",
   "execution_count": 1,
   "outputs": [
    {
     "name": "stdout",
     "output_type": "stream",
     "text": [
      "['admin', 'config', 'local', 'test']\n"
     ]
    }
   ],
   "source": [
    "import pymongo\n",
    "myclient = pymongo.MongoClient(\"mongodb://localhost:27017\")\n",
    "# myclient = pymongo.MongoClient('localhost',27017)\n",
    "print(myclient.list_database_names())"
   ],
   "metadata": {
    "collapsed": false
   }
  },
  {
   "cell_type": "code",
   "execution_count": 9,
   "outputs": [
    {
     "name": "stdout",
     "output_type": "stream",
     "text": [
      "{'_id': ObjectId('64f59f513ff67910f6bee318'), 'title': 'PHP 教程', 'description': 'PHP 是一种创建动态交互性站点的强有力的服务器端脚本语言。', 'by': '菜鸟教程', 'url': 'http://www.runoob.com', 'tags': ['php'], 'likes': 200}\n",
      "{'_id': ObjectId('64f59f5c3ff67910f6bee319'), 'title': 'Java 教程', 'description': 'Java 是由Sun Microsystems公司于1995年5月推出的高级程序设计语言。', 'by': '菜鸟教程', 'url': 'http://www.runoob.com', 'tags': ['java'], 'likes': 150}\n",
      "{'_id': ObjectId('64f59f613ff67910f6bee31a'), 'title': 'MongoDB 教程', 'description': 'MongoDB 是一个 Nosql 数据库', 'by': '菜鸟教程', 'url': 'http://www.runoob.com', 'tags': ['mongodb'], 'likes': 100}\n",
      "{'_id': 'Alkaid', 'sex': 'male', 'like': 'comp', 'career': 'student'}\n"
     ]
    }
   ],
   "source": [
    "rets = myclient.test.col.find()\n",
    "for ret in rets:\n",
    "    print(ret)"
   ],
   "metadata": {
    "collapsed": false
   }
  },
  {
   "cell_type": "code",
   "execution_count": 23,
   "outputs": [
    {
     "data": {
      "text/plain": "<Figure size 640x480 with 1 Axes>",
      "image/png": "[encoded data removed]"
     },
     "metadata": {},
     "output_type": "display_data"
    }
   ],
   "source": [
    "from random import randint, shuffle, random\n",
    "import networkx as nx\n",
    "import matplotlib.pyplot as plt\n",
    "G = nx.DiGraph()\n",
    "node_num = 5\n",
    "edge_num = randint(1, min(node_num**2, 20))\n",
    "nodes = list(range(node_num))\n",
    "shuffle(nodes)\n",
    "for i in range(edge_num):\n",
    "    p1 = randint(0, node_num - 2)\n",
    "    p2 = randint(p1 + 1, node_num - 1)\n",
    "    x = nodes[p1]\n",
    "    y = nodes[p2]\n",
    "    weight = random()\n",
    "    G.add_edge(x, y, weight=weight)\n",
    "nx.draw_networkx(G)\n",
    "plt.show()"
   ],
   "metadata": {
    "collapsed": false
   }
  },
  {
   "cell_type": "code",
   "execution_count": 15,
   "outputs": [
    {
     "data": {
      "text/plain": "{'_id': 'Alkaid', 'sex': 'male', 'like': 'comp', 'career': 'student'}"
     },
     "execution_count": 15,
     "metadata": {},
     "output_type": "execute_result"
    }
   ],
   "source": [
    "results = myclient.test.col.find().sort('likes', pymongo.ASCENDING)\n",
    "# print([result['likes'] for result in results])"
   ],
   "metadata": {
    "collapsed": false
   }
  },
  {
   "cell_type": "code",
   "execution_count": 7,
   "outputs": [
    {
     "name": "stdout",
     "output_type": "stream",
     "text": [
      "shape: (5, 4)\n",
      "┌──────┬───────┬──────────┬────────┐\n",
      "│ nrs  ┆ names ┆ random   ┆ groups │\n",
      "│ ---  ┆ ---   ┆ ---      ┆ ---    │\n",
      "│ i64  ┆ str   ┆ f64      ┆ str    │\n",
      "╞══════╪═══════╪══════════╪════════╡\n",
      "│ 1    ┆ foo   ┆ 0.73417  ┆ A      │\n",
      "│ 2    ┆ ham   ┆ 0.977072 ┆ A      │\n",
      "│ 3    ┆ spam  ┆ 0.989073 ┆ B      │\n",
      "│ null ┆ egg   ┆ 0.211578 ┆ C      │\n",
      "│ 5    ┆ null  ┆ 0.613844 ┆ B      │\n",
      "└──────┴───────┴──────────┴────────┘\n"
     ]
    }
   ],
   "source": [
    "df = pl.DataFrame(\n",
    "    {\n",
    "        \"nrs\": [1, 2, 3, None, 5],\n",
    "        \"names\": [\"foo\", \"ham\", \"spam\", \"egg\", None],\n",
    "        \"random\": np.random.rand(5),\n",
    "        \"groups\": [\"A\", \"A\", \"B\", \"C\", \"B\"],\n",
    "    }\n",
    ")\n",
    "print(df)"
   ],
   "metadata": {
    "collapsed": false
   }
  },
  {
   "cell_type": "code",
   "execution_count": 25,
   "outputs": [],
   "source": [
    "df.write_csv(\"test.csv\")"
   ],
   "metadata": {
    "collapsed": false,
    "ExecuteTime": {
     "end_time": "2023-09-04T05:13:54.567290300Z",
     "start_time": "2023-09-04T05:13:54.529293800Z"
    }
   }
  },
  {
   "cell_type": "code",
   "execution_count": 14,
   "outputs": [
    {
     "data": {
      "text/plain": "shape: (4, 6)\n┌─────┬───────┬──────────┬────────┬─────────┬───────┐\n│ nrs ┆ names ┆ random   ┆ groups ┆ nrs_sum ┆ count │\n│ --- ┆ ---   ┆ ---      ┆ ---    ┆ ---     ┆ ---   │\n│ i64 ┆ str   ┆ f64      ┆ str    ┆ i64     ┆ u32   │\n╞═════╪═══════╪══════════╪════════╪═════════╪═══════╡\n│ 1   ┆ foo   ┆ 0.73417  ┆ A      ┆ 11      ┆ 5     │\n│ 2   ┆ ham   ┆ 0.977072 ┆ A      ┆ 11      ┆ 5     │\n│ 3   ┆ spam  ┆ 0.989073 ┆ B      ┆ 11      ┆ 5     │\n│ 5   ┆ null  ┆ 0.613844 ┆ B      ┆ 11      ┆ 5     │\n└─────┴───────┴──────────┴────────┴─────────┴───────┘",
      "text/html": "<div><style>\n.dataframe > thead > tr > th,\n.dataframe > tbody > tr > td {\n  text-align: right;\n  white-space: pre-wrap;\n}\n</style>\n<small>shape: (4, 6)</small><table border=\"1\" class=\"dataframe\"><thead><tr><th>nrs</th><th>names</th><th>random</th><th>groups</th><th>nrs_sum</th><th>count</th></tr><tr><td>i64</td><td>str</td><td>f64</td><td>str</td><td>i64</td><td>u32</td></tr></thead><tbody><tr><td>1</td><td>&quot;foo&quot;</td><td>0.73417</td><td>&quot;A&quot;</td><td>11</td><td>5</td></tr><tr><td>2</td><td>&quot;ham&quot;</td><td>0.977072</td><td>&quot;A&quot;</td><td>11</td><td>5</td></tr><tr><td>3</td><td>&quot;spam&quot;</td><td>0.989073</td><td>&quot;B&quot;</td><td>11</td><td>5</td></tr><tr><td>5</td><td>null</td><td>0.613844</td><td>&quot;B&quot;</td><td>11</td><td>5</td></tr></tbody></table></div>"
     },
     "execution_count": 14,
     "metadata": {},
     "output_type": "execute_result"
    }
   ],
   "source": [
    "df.filter(df['random'] > 0.5)"
   ],
   "metadata": {
    "collapsed": false,
    "ExecuteTime": {
     "end_time": "2023-09-04T03:17:19.440105Z",
     "start_time": "2023-09-04T03:17:19.423104800Z"
    }
   }
  },
  {
   "cell_type": "code",
   "execution_count": 8,
   "outputs": [
    {
     "name": "stdout",
     "output_type": "stream",
     "text": [
      "shape: (5, 4)\n",
      "┌─────┬───────┬────────────┬────────┐\n",
      "│ nrs ┆ names ┆ first name ┆ 10xnrs │\n",
      "│ --- ┆ ---   ┆ ---        ┆ ---    │\n",
      "│ i64 ┆ str   ┆ str        ┆ f64    │\n",
      "╞═════╪═══════╪════════════╪════════╡\n",
      "│ 11  ┆ null  ┆ foo        ┆ 27.5   │\n",
      "│ 11  ┆ egg   ┆ foo        ┆ 27.5   │\n",
      "│ 11  ┆ foo   ┆ foo        ┆ 27.5   │\n",
      "│ 11  ┆ ham   ┆ foo        ┆ 27.5   │\n",
      "│ 11  ┆ spam  ┆ foo        ┆ 27.5   │\n",
      "└─────┴───────┴────────────┴────────┘\n"
     ]
    }
   ],
   "source": [
    "out = df.select(\n",
    "    pl.sum(\"nrs\"),\n",
    "    pl.col(\"names\").sort(),\n",
    "    pl.col(\"names\").first().alias(\"first name\"),\n",
    "    (pl.mean(\"nrs\") * 10).alias(\"10xnrs\"),\n",
    ")\n",
    "print(out)"
   ],
   "metadata": {
    "collapsed": false,
    "ExecuteTime": {
     "end_time": "2023-09-04T03:06:34.273187900Z",
     "start_time": "2023-09-04T03:06:34.263189500Z"
    }
   }
  },
  {
   "cell_type": "code",
   "execution_count": 9,
   "outputs": [
    {
     "name": "stdout",
     "output_type": "stream",
     "text": [
      "shape: (5, 6)\n",
      "┌──────┬───────┬──────────┬────────┬─────────┬───────┐\n",
      "│ nrs  ┆ names ┆ random   ┆ groups ┆ nrs_sum ┆ count │\n",
      "│ ---  ┆ ---   ┆ ---      ┆ ---    ┆ ---     ┆ ---   │\n",
      "│ i64  ┆ str   ┆ f64      ┆ str    ┆ i64     ┆ u32   │\n",
      "╞══════╪═══════╪══════════╪════════╪═════════╪═══════╡\n",
      "│ 1    ┆ foo   ┆ 0.73417  ┆ A      ┆ 11      ┆ 5     │\n",
      "│ 2    ┆ ham   ┆ 0.977072 ┆ A      ┆ 11      ┆ 5     │\n",
      "│ 3    ┆ spam  ┆ 0.989073 ┆ B      ┆ 11      ┆ 5     │\n",
      "│ null ┆ egg   ┆ 0.211578 ┆ C      ┆ 11      ┆ 5     │\n",
      "│ 5    ┆ null  ┆ 0.613844 ┆ B      ┆ 11      ┆ 5     │\n",
      "└──────┴───────┴──────────┴────────┴─────────┴───────┘\n"
     ]
    }
   ],
   "source": [
    "df = df.with_columns(\n",
    "    pl.sum(\"nrs\").alias(\"nrs_sum\"),\n",
    "    pl.col(\"random\").count().alias(\"count\"),\n",
    ")\n",
    "print(df)"
   ],
   "metadata": {
    "collapsed": false,
    "ExecuteTime": {
     "end_time": "2023-09-04T03:07:28.256080500Z",
     "start_time": "2023-09-04T03:07:28.221080900Z"
    }
   }
  },
  {
   "cell_type": "code",
   "execution_count": 6,
   "outputs": [
    {
     "name": "stdout",
     "output_type": "stream",
     "text": [
      "shape: (2, 3)\n",
      "┌─────────┬─────────────────────┬───────┐\n",
      "│ integer ┆ date                ┆ float │\n",
      "│ ---     ┆ ---                 ┆ ---   │\n",
      "│ i64     ┆ datetime[μs]        ┆ f64   │\n",
      "╞═════════╪═════════════════════╪═══════╡\n",
      "│ 3       ┆ 2022-01-03 00:00:00 ┆ 6.0   │\n",
      "│ 4       ┆ 2022-01-04 00:00:00 ┆ 7.0   │\n",
      "└─────────┴─────────────────────┴───────┘\n"
     ]
    }
   ],
   "source": [
    "print(df.sample(2))"
   ],
   "metadata": {
    "collapsed": false,
    "ExecuteTime": {
     "end_time": "2023-09-04T03:05:21.906157300Z",
     "start_time": "2023-09-04T03:05:21.899156Z"
    }
   }
  }
 ],
 "metadata": {
  "kernelspec": {
   "display_name": "Python 3",
   "language": "python",
   "name": "python3"
  },
  "language_info": {
   "codemirror_mode": {
    "name": "ipython",
    "version": 2
   },
   "file_extension": ".py",
   "mimetype": "text/x-python",
   "name": "python",
   "nbconvert_exporter": "python",
   "pygments_lexer": "ipython2",
   "version": "2.7.6"
  }
 },
 "nbformat": 4,
 "nbformat_minor": 0
}
