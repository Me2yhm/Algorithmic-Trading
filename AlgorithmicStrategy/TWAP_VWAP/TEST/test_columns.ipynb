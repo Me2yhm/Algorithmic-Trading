{
 "cells": [
  {
   "cell_type": "code",
   "execution_count": 3,
   "metadata": {},
   "outputs": [
    {
     "name": "stdout",
     "output_type": "stream",
     "text": [
      "(181,)\n"
     ]
    }
   ],
   "source": [
    "import pandas as pd\n",
    "\n",
    "df1 = pd.read_csv('d:/算法交易/Algorithmic-Trading/AlgorithmicStrategy/TWAP_VWAP/DATA/KangYang/归一化测试集3s/norm002703_3s_0726.csv')\n",
    "df2 = pd.read_csv(r'D:\\算法交易\\Algorithmic-Trading\\AlgorithmicStrategy\\TWAP_VWAP\\DATA\\KangYang\\训练\\norm_000157_3s_0704.csv')\n",
    "\n",
    "print(df2.columns.shape)\n"
   ]
  }
 ],
 "metadata": {
  "kernelspec": {
   "display_name": "动手学深度学习-2MfCZQVV",
   "language": "python",
   "name": "python3"
  },
  "language_info": {
   "codemirror_mode": {
    "name": "ipython",
    "version": 3
   },
   "file_extension": ".py",
   "mimetype": "text/x-python",
   "name": "python",
   "nbconvert_exporter": "python",
   "pygments_lexer": "ipython3",
   "version": "3.11.4"
  },
  "orig_nbformat": 4
 },
 "nbformat": 4,
 "nbformat_minor": 2
}
